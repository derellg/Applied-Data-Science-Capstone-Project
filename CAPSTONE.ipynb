{
 "cells": [
  {
   "cell_type": "markdown",
   "metadata": {},
   "source": [
    "<h1><center> The Battle of the Neighborhoods</center></h1>\n"
   ]
  },
  {
   "cell_type": "markdown",
   "metadata": {},
   "source": [
    "### Applied Data Science Capstone "
   ]
  },
  {
   "cell_type": "markdown",
   "metadata": {},
   "source": [
    "## Table of contents\n",
    "* [Introduction: Business Problem](#introduction)\n",
    "* [Data](#data)\n",
    "* [Methodology](#methodology)\n",
    "* [Analysis](#analysis)\n",
    "* [Results and Discussion](#results)\n",
    "* [Conclusion](#conclusion)"
   ]
  },
  {
   "cell_type": "markdown",
   "metadata": {},
   "source": [
    "## Introduction: Business Problem <a name=\"introduction\"></a>"
   ]
  },
  {
   "cell_type": "markdown",
   "metadata": {},
   "source": [
    "**Rome** is famous for having amazing foods such as spaghetti, lasagna, pizza and gelato. This Capital of Italy is well known for historic sites such as the Colosseum, Trevi Fountain and Vatican City. Rome is where the Ancient Romans created systems and structures that we still use to this day. Therefore, for these reasons and many others, the city attracts numerous people with diverse backgrounds..\n",
    "\n",
    "In this project we will try to find an optimal location for a restaurant specifically targeted to stakeholders interested in opening a **French restaurant** in **Rome**, Italy.\n",
    "\n",
    "Since there are lots of restaurants in Italy we will try to detect **locations that are not already crowded with restaurants**. We will also focus in **locations with no French restaurants in proximity** that are also **as close to city center as possible**.\n",
    "\n",
    "We will then desmontrate  our data science knowledge by finding emerging neighborhoods, analyse them, and express our best possible final location that stakeholders can choose from..."
   ]
  },
  {
   "cell_type": "markdown",
   "metadata": {},
   "source": [
    "## Data <a name=\"data\"></a>"
   ]
  },
  {
   "cell_type": "markdown",
   "metadata": {},
   "source": [
    "In the process of finding the optimal location for our stakeholders, we will need to collect some data that will help us set and define some factors which are:\n",
    "\n",
    "* number of existing restaurants in the neighborhood (any type of restaurant)\n",
    "* number of and distance to ***French restaurants*** in the neighborhood, if any\n",
    "* distance of neighborhood from city center\n",
    "\n",
    "Grid Spacing dialog box is used to specify the precise locations of grid lines.\n",
    "**Regularly spaced grid** will help us specify locations centered around city center and define our neighborhoods.\n",
    "\n",
    "Following data sources will be also needed to extract/generate the required information:\n",
    "\n",
    "* centers of candidate areas will be generated algorithmically and approximate addresses of centers of those areas will be obtained using **Google Maps API reverse geocoding**\n",
    "* number of restaurants and their type and location in every neighborhood will be obtained using **Foursquare API**\n",
    "* coordinate of ***Rome*** center will be obtained using **Google Maps API geocoding** of well known ***Rome*** location (Alexanderplatz)"
   ]
  },
  {
   "cell_type": "code",
   "execution_count": null,
   "metadata": {},
   "outputs": [],
   "source": []
  }
 ],
 "metadata": {
  "kernelspec": {
   "display_name": "Python 3",
   "language": "python",
   "name": "python3"
  },
  "language_info": {
   "codemirror_mode": {
    "name": "ipython",
    "version": 3
   },
   "file_extension": ".py",
   "mimetype": "text/x-python",
   "name": "python",
   "nbconvert_exporter": "python",
   "pygments_lexer": "ipython3",
   "version": "3.8.5"
  }
 },
 "nbformat": 4,
 "nbformat_minor": 4
}
